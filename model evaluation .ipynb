{
  "metadata": {
    "kernelspec": {
      "name": "python",
      "display_name": "Python (Pyodide)",
      "language": "python"
    },
    "language_info": {
      "codemirror_mode": {
        "name": "python",
        "version": 3
      },
      "file_extension": ".py",
      "mimetype": "text/x-python",
      "name": "python",
      "nbconvert_exporter": "python",
      "pygments_lexer": "ipython3",
      "version": "3.8"
    }
  },
  "nbformat_minor": 4,
  "nbformat": 4,
  "cells": [
    {
      "cell_type": "code",
      "source": "from sklearn.linear_model import LogisticRegression \nfrom sklearn.model_selection import train_test_split \nfrom sklearn.datasets import make_blobs \nX, y = make_blobs(random_state=0)  \nX_train, X_test, y_train, y_test = train_test_split(X, y, random_state=0) \nlogreg = LogisticRegression().fit(X_train, y_train) \nprint(\"Test set score: {:.2f}\".format(logreg.score(X_test, y_test))) \n\n",
      "metadata": {
        "trusted": true
      },
      "outputs": [
        {
          "name": "stdout",
          "text": "Test set score: 0.88\n",
          "output_type": "stream"
        }
      ],
      "execution_count": 2
    },
    {
      "cell_type": "code",
      "source": "from sklearn.model_selection import train_test_split \nfrom sklearn.datasets import make_blobs \nfrom sklearn.linear_model import LogisticRegression \nfrom sklearn.metrics import accuracy_score \nX, y = make_blobs(random_state=0) \nX_train, X_test, y_train, y_test = train_test_split(X, y, test_size=0.33, random_state=42) \nclf_model= LogisticRegression() \nclf_model.fit(X_train, y_train) \ny_pred = clf_model.predict(X_test) \nprint(\"Accuracy: \", accuracy_score(y_test, y_pred)) \n",
      "metadata": {
        "trusted": true
      },
      "outputs": [
        {
          "name": "stdout",
          "text": "Accuracy:  0.9393939393939394\n",
          "output_type": "stream"
        }
      ],
      "execution_count": 5
    },
    {
      "cell_type": "code",
      "source": "",
      "metadata": {
        "trusted": true
      },
      "outputs": [],
      "execution_count": null
    }
  ]
}
