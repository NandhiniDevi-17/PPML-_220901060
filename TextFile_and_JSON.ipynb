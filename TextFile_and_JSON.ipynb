{
  "nbformat": 4,
  "nbformat_minor": 0,
  "metadata": {
    "colab": {
      "provenance": []
    },
    "kernelspec": {
      "name": "python3",
      "display_name": "Python 3"
    },
    "language_info": {
      "name": "python"
    }
  },
  "cells": [
    {
      "cell_type": "code",
      "execution_count": 2,
      "metadata": {
        "colab": {
          "base_uri": "https://localhost:8080/"
        },
        "id": "nMazkPbOq7rb",
        "outputId": "e798a99a-bb61-4dc4-80b7-6c8124eadb4d"
      },
      "outputs": [
        {
          "output_type": "stream",
          "name": "stdout",
          "text": [
            "File content: This is some text.\n",
            "This is another line.\n",
            "\n",
            "This is some text.\n",
            "This is another line.\n",
            "File content after appending: This is some text.\n",
            "This is another line.\n",
            "This is some additional text.\n",
            "\n",
            "JSON data: {\"name\": \"John Doe\", \"age\": 30}\n",
            "Parsed data: {'name': 'John', 'age': 30, 'City': 'Chennai'}\n"
          ]
        }
      ],
      "source": [
        "\n",
        "\n",
        "import json\n",
        "\n",
        "# Open a text file in write mode\n",
        "file = open(\"my_file.txt\", \"w\")\n",
        "\n",
        "# Write content to the file\n",
        "file.write(\"This is some text.\\n\")\n",
        "file.write(\"This is another line.\\n\")\n",
        "\n",
        "# Close the file\n",
        "file.close()\n",
        "\n",
        "\n",
        "# Open the same text file in read mode\n",
        "file = open(\"my_file.txt\", \"r\")\n",
        "\n",
        "# Read the contents\n",
        "content = file.read()\n",
        "\n",
        "# Print the contents\n",
        "print(\"File content:\", content)\n",
        "\n",
        "# Close the file\n",
        "file.close()\n",
        "\n",
        "\n",
        "# Open the file in read mode\n",
        "file = open(\"my_file.txt\", \"r\")\n",
        "\n",
        "# Read the contents line by line\n",
        "line = file.readline()\n",
        "while line:\n",
        "    print(line, end=\"\")\n",
        "    line = file.readline()\n",
        "\n",
        "# Close the file\n",
        "file.close()\n",
        "\n",
        "\n",
        "# Open the file in append mode\n",
        "file = open(\"my_file.txt\", \"a\")\n",
        "\n",
        "# Add some content to the file\n",
        "file.write(\"This is some additional text.\\n\")\n",
        "\n",
        "# Close the file\n",
        "file.close()\n",
        "\n",
        "\n",
        "# Open the file in read mode\n",
        "file = open(\"my_file.txt\", \"r\")\n",
        "\n",
        "# Read the contents\n",
        "content = file.read()\n",
        "\n",
        "# Print the contents\n",
        "print(\"File content after appending:\", content)\n",
        "\n",
        "# Close the file\n",
        "file.close()\n",
        "\n",
        "\n",
        "# Example of using json.dumps()\n",
        "data = {\"name\": \"John Doe\", \"age\": 30}\n",
        "json_data = json.dumps(data)\n",
        "print(\"JSON data:\", json_data)\n",
        "\n",
        "\n",
        "# Example of using json.loads()\n",
        "json_string = '{\"name\": \"John\", \"age\": 30,\"City\": \"Chennai\"}'\n",
        "data = json.loads(json_string)\n",
        "print(\"Parsed data:\", data)\n"
      ]
    }
  ]
}