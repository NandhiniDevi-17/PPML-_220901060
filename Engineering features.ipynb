{
  "metadata": {
    "kernelspec": {
      "name": "python",
      "display_name": "Python (Pyodide)",
      "language": "python"
    },
    "language_info": {
      "codemirror_mode": {
        "name": "python",
        "version": 3
      },
      "file_extension": ".py",
      "mimetype": "text/x-python",
      "name": "python",
      "nbconvert_exporter": "python",
      "pygments_lexer": "ipython3",
      "version": "3.8"
    }
  },
  "nbformat_minor": 4,
  "nbformat": 4,
  "cells": [
    {
      "cell_type": "code",
      "source": "import pandas as pd \nimport numpy as np \ndf = pd.DataFrame({'Age': [42, 15, 67, 55, 1, 29, 75, 89, 4, \n10, 15, 38, 22, 77]})  \nprint(\"Before: \\n\") \nprint(df) \ndf['Label'] = pd.cut(x=df['Age'], bins=[0, 3, 17, 63, 99], \nlabels=['Baby/Toddler', 'Child', 'Adult', \n'Elderly'])  \nprint(\"After: \\n\") \nprint(df)  \nprint(\"Categories: \\n\") \nprint(df['Label'].value_counts()) \n",
      "metadata": {
        "trusted": true
      },
      "outputs": [
        {
          "name": "stdout",
          "text": "Before: \n\n    Age\n0    42\n1    15\n2    67\n3    55\n4     1\n5    29\n6    75\n7    89\n8     4\n9    10\n10   15\n11   38\n12   22\n13   77\nAfter: \n\n    Age         Label\n0    42         Adult\n1    15         Child\n2    67       Elderly\n3    55         Adult\n4     1  Baby/Toddler\n5    29         Adult\n6    75       Elderly\n7    89       Elderly\n8     4         Child\n9    10         Child\n10   15         Child\n11   38         Adult\n12   22         Adult\n13   77       Elderly\nCategories: \n\nLabel\nAdult           5\nChild           4\nElderly         4\nBaby/Toddler    1\nName: count, dtype: int64\n",
          "output_type": "stream"
        }
      ],
      "execution_count": 2
    },
    {
      "cell_type": "code",
      "source": "import pandas as pd \nimport numpy as np \ndf = pd.DataFrame({'Height': [150.4, 157.6, 170, 176, 164.2, 155, \n159.2, 175, 162.4, 176, 153, 170.9]}) \nprint(\"Before: \") \nprint(df) \ndf['Label'] = pd.cut(x=df['Height'], \nbins=[150, 157, 169, 180], \nlabels=['Short', 'Average', 'Tall']) \nprint(\"After: \") \nprint(df)  \nprint(\"Categories: \") \nprint(df['Label'].value_counts()) \n",
      "metadata": {
        "trusted": true
      },
      "outputs": [
        {
          "name": "stdout",
          "text": "Before: \n    Height\n0    150.4\n1    157.6\n2    170.0\n3    176.0\n4    164.2\n5    155.0\n6    159.2\n7    175.0\n8    162.4\n9    176.0\n10   153.0\n11   170.9\nAfter: \n    Height    Label\n0    150.4    Short\n1    157.6  Average\n2    170.0     Tall\n3    176.0     Tall\n4    164.2  Average\n5    155.0    Short\n6    159.2  Average\n7    175.0     Tall\n8    162.4  Average\n9    176.0     Tall\n10   153.0    Short\n11   170.9     Tall\nCategories: \nLabel\nTall       5\nAverage    4\nShort      3\nName: count, dtype: int64\n",
          "output_type": "stream"
        }
      ],
      "execution_count": 3
    },
    {
      "cell_type": "code",
      "source": "",
      "metadata": {
        "trusted": true
      },
      "outputs": [],
      "execution_count": null
    }
  ]
}