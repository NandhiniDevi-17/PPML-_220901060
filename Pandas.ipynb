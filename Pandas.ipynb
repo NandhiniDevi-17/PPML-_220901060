{
  "metadata": {
    "kernelspec": {
      "name": "python",
      "display_name": "Python (Pyodide)",
      "language": "python"
    },
    "language_info": {
      "codemirror_mode": {
        "name": "python",
        "version": 3
      },
      "file_extension": ".py",
      "mimetype": "text/x-python",
      "name": "python",
      "nbconvert_exporter": "python",
      "pygments_lexer": "ipython3",
      "version": "3.8"
    }
  },
  "nbformat_minor": 4,
  "nbformat": 4,
  "cells": [
    {
      "cell_type": "code",
      "source": "import pandas as pd\nimport numpy as np",
      "metadata": {
        "trusted": true
      },
      "outputs": [],
      "execution_count": null
    },
    {
      "cell_type": "code",
      "source": "# Declare Empty Dataframe\ndf = pd.DataFrame()",
      "metadata": {
        "trusted": true
      },
      "outputs": [],
      "execution_count": 3
    },
    {
      "cell_type": "code",
      "source": "# Declare and print the DataFrame Series\nseries = pd.Series([1, 2, 3, 4, 5])\nprint(\"DataFrame Series:\\n\", series)",
      "metadata": {
        "trusted": true
      },
      "outputs": [
        {
          "name": "stdout",
          "text": "DataFrame Series:\n 0    1\n1    2\n2    3\n3    4\n4    5\ndtype: int64\n",
          "output_type": "stream"
        }
      ],
      "execution_count": 2
    },
    {
      "cell_type": "code",
      "source": "# Add one column and row\ndf['Column1'] = [10, 20, 30, 40, 50]\ndf.loc[5] = [60]\n\nprint(\"\\nDataFrame after adding column and row:\\n\", df)",
      "metadata": {
        "trusted": true
      },
      "outputs": [
        {
          "name": "stdout",
          "text": "\nDataFrame after adding column and row:\n    Column1\n0       10\n1       20\n2       30\n3       40\n4       50\n5       60\n",
          "output_type": "stream"
        }
      ],
      "execution_count": 4
    },
    {
      "cell_type": "code",
      "source": "# Extract any one column and row based on condition\ncolumn_extracted = df['Column1']\nrow_extracted = df.loc[df['Column1'] > 30]\n\nprint(\"\\nExtracted Column:\\n\", column_extracted)\nprint(\"\\nExtracted Row:\\n\", row_extracted)",
      "metadata": {
        "trusted": true
      },
      "outputs": [
        {
          "name": "stdout",
          "text": "\nExtracted Column:\n 0    10\n1    20\n2    30\n3    40\n4    50\n5    60\nName: Column1, dtype: int64\n\nExtracted Row:\n    Column1\n3       40\n4       50\n5       60\n",
          "output_type": "stream"
        }
      ],
      "execution_count": 5
    },
    {
      "cell_type": "code",
      "source": "# Sum, square root, min, max functions\nsum_column1 = df['Column1'].sum()\nsqrt_column1 = np.sqrt(df['Column1'])\nmin_column1 = df['Column1'].min()\nmax_column1 = df['Column1'].max()\n\nprint(\"\\nSum of Column1:\", sum_column1)\nprint(\"\\nSquare root of Column1:\\n\", sqrt_column1)\nprint(\"\\nMinimum of Column1:\", min_column1)\nprint(\"\\nMaximum of Column1:\", max_column1)",
      "metadata": {
        "trusted": true
      },
      "outputs": [
        {
          "name": "stdout",
          "text": "\nSum of Column1: 210\n\nSquare root of Column1:\n 0    3.162278\n1    4.472136\n2    5.477226\n3    6.324555\n4    7.071068\n5    7.745967\nName: Column1, dtype: float64\n\nMinimum of Column1: 10\n\nMaximum of Column1: 60\n",
          "output_type": "stream"
        }
      ],
      "execution_count": 6
    },
    {
      "cell_type": "code",
      "source": "# Sort values\ndf_sorted = df.sort_values('Column1')\nprint(\"\\nDataFrame sorted by Column1:\\n\", df_sorted)",
      "metadata": {
        "trusted": true
      },
      "outputs": [
        {
          "name": "stdout",
          "text": "\nDataFrame sorted by Column1:\n    Column1\n0       10\n1       20\n2       30\n3       40\n4       50\n5       60\n",
          "output_type": "stream"
        }
      ],
      "execution_count": 7
    },
    {
      "cell_type": "code",
      "source": "# Merge values\ndf2 = pd.DataFrame({'Column1': [70, 80], 'Column2': [90, 100]})\ndf_merged = pd.concat([df, df2], ignore_index=True)\nprint(\"\\nMerged DataFrame:\\n\", df_merged)",
      "metadata": {
        "trusted": true
      },
      "outputs": [
        {
          "name": "stdout",
          "text": "\nMerged DataFrame:\n    Column1  Column2\n0       10      NaN\n1       20      NaN\n2       30      NaN\n3       40      NaN\n4       50      NaN\n5       60      NaN\n6       70     90.0\n7       80    100.0\n",
          "output_type": "stream"
        }
      ],
      "execution_count": 8
    },
    {
      "cell_type": "code",
      "source": "",
      "metadata": {
        "trusted": true
      },
      "outputs": [],
      "execution_count": null
    },
    {
      "cell_type": "code",
      "source": "# Create a Series from an array\ndata = [1, 2, 3, 4, 5]\nseries_from_array = pd.Series(data)\nprint(\"Series from array:\\n\", series_from_array)",
      "metadata": {
        "trusted": true
      },
      "outputs": [],
      "execution_count": null
    },
    {
      "cell_type": "code",
      "source": "# Create a Series from a dictionary\ndata = {'a': 1, 'b': 2, 'c': 3}\nseries_from_dict = pd.Series(data)\nprint(\"\\nSeries from dictionary:\\n\", series_from_dict)\n\n# Create a Series using a scalar value and index\ndata = 10\nindex = ['a', 'b', 'c', 'd', 'e']\nseries_from_scalar = pd.Series(data, index=index)\nprint(\"\\nSeries from scalar:\\n\", series_from_scalar)",
      "metadata": {
        "trusted": true
      },
      "outputs": [],
      "execution_count": null
    }
  ]
}