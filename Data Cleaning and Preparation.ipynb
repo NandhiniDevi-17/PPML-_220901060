{
  "metadata": {
    "kernelspec": {
      "name": "python",
      "display_name": "Python (Pyodide)",
      "language": "python"
    },
    "language_info": {
      "codemirror_mode": {
        "name": "python",
        "version": 3
      },
      "file_extension": ".py",
      "mimetype": "text/x-python",
      "name": "python",
      "nbconvert_exporter": "python",
      "pygments_lexer": "ipython3",
      "version": "3.8"
    }
  },
  "nbformat_minor": 4,
  "nbformat": 4,
  "cells": [
    {
      "cell_type": "code",
      "source": "import pandas as pd\nimport numpy as np\na=pd.DataFrame(np.random.\nrandn(3,3),index=['a','c','h'],columns=['One','Two','Three'])\nprint(a)\n",
      "metadata": {
        "trusted": true
      },
      "outputs": [
        {
          "name": "stdout",
          "text": "        One       Two     Three\na -0.934825  0.255733  1.162900\nc -0.218448 -0.451089  0.294045\nh -0.639405 -0.656339  0.295742\n",
          "output_type": "stream"
        }
      ],
      "execution_count": 34
    },
    {
      "cell_type": "code",
      "source": "a=a.reindex(['a','b','c','d','h'])\nprint(a)",
      "metadata": {
        "trusted": true
      },
      "outputs": [
        {
          "name": "stdout",
          "text": "        One       Two     Three\na  1.861898 -1.696875 -0.935008\nb       NaN       NaN       NaN\nc  0.430152 -0.747123  0.299975\nd       NaN       NaN       NaN\nh  0.319903 -0.521210 -1.153024\n",
          "output_type": "stream"
        }
      ],
      "execution_count": 33
    },
    {
      "cell_type": "code",
      "source": "a1=a\nprint(a.dropna())",
      "metadata": {
        "trusted": true
      },
      "outputs": [
        {
          "name": "stdout",
          "text": "        One       Two     Three\na -0.934825  0.255733  1.162900\nc -0.218448 -0.451089  0.294045\nh -0.639405 -0.656339  0.295742\n",
          "output_type": "stream"
        }
      ],
      "execution_count": 35
    },
    {
      "cell_type": "code",
      "source": "a2=a1\nprint(a1.fillna(0))",
      "metadata": {
        "trusted": true
      },
      "outputs": [
        {
          "name": "stdout",
          "text": "        One       Two     Three\na -0.934825  0.255733  1.162900\nc -0.218448 -0.451089  0.294045\nh -0.639405 -0.656339  0.295742\n",
          "output_type": "stream"
        }
      ],
      "execution_count": 36
    },
    {
      "cell_type": "code",
      "source": "a3=a2\nprint(a2.fillna(method='pad'))",
      "metadata": {
        "trusted": true
      },
      "outputs": [
        {
          "name": "stderr",
          "text": "<ipython-input-39-b927352de9fc>:2: FutureWarning: DataFrame.fillna with 'method' is deprecated and will raise in a future version. Use obj.ffill() or obj.bfill() instead.\n  print(a2.fillna(method='pad'))\n",
          "output_type": "stream"
        },
        {
          "name": "stdout",
          "text": "        One       Two     Three\na -0.934825  0.255733  1.162900\nc -0.218448 -0.451089  0.294045\nh -0.639405 -0.656339  0.295742\n",
          "output_type": "stream"
        }
      ],
      "execution_count": 39
    },
    {
      "cell_type": "code",
      "source": "a4=a3\nprint(a3.fillna(method='bfill'))",
      "metadata": {
        "trusted": true
      },
      "outputs": [
        {
          "name": "stderr",
          "text": "<ipython-input-40-1f554bed7946>:2: FutureWarning: DataFrame.fillna with 'method' is deprecated and will raise in a future version. Use obj.ffill() or obj.bfill() instead.\n  print(a3.fillna(method='bfill'))\n",
          "output_type": "stream"
        },
        {
          "name": "stdout",
          "text": "        One       Two     Three\na -0.934825  0.255733  1.162900\nc -0.218448 -0.451089  0.294045\nh -0.639405 -0.656339  0.295742\n",
          "output_type": "stream"
        }
      ],
      "execution_count": 40
    },
    {
      "cell_type": "code",
      "source": "a5=a4\nprint(a4.bfill())",
      "metadata": {
        "trusted": true
      },
      "outputs": [
        {
          "name": "stdout",
          "text": "        One       Two     Three\na -0.934825  0.255733  1.162900\nc -0.218448 -0.451089  0.294045\nh -0.639405 -0.656339  0.295742\n",
          "output_type": "stream"
        }
      ],
      "execution_count": 41
    },
    {
      "cell_type": "code",
      "source": "print(a['One'].isnull())",
      "metadata": {
        "trusted": true
      },
      "outputs": [
        {
          "name": "stdout",
          "text": "a    False\nc    False\nh    False\nName: One, dtype: bool\n",
          "output_type": "stream"
        }
      ],
      "execution_count": 42
    },
    {
      "cell_type": "code",
      "source": "print(a['One'].notnull())",
      "metadata": {
        "trusted": true
      },
      "outputs": [
        {
          "name": "stdout",
          "text": "a    True\nc    True\nh    True\nName: One, dtype: bool\n",
          "output_type": "stream"
        }
      ],
      "execution_count": 43
    },
    {
      "cell_type": "code",
      "source": "b=pd.DataFrame([[11,'vijay'],[101,'sam'],[13,'sree'],[14,'abi']],columns=['Age','Name'])\nprint(b)",
      "metadata": {
        "trusted": true
      },
      "outputs": [
        {
          "name": "stdout",
          "text": "   Age   Name\n0   11  vijay\n1  101    sam\n2   13   sree\n3   14    abi\n",
          "output_type": "stream"
        }
      ],
      "execution_count": 46
    },
    {
      "cell_type": "code",
      "source": "",
      "metadata": {
        "trusted": true
      },
      "outputs": [],
      "execution_count": null
    }
  ]
}